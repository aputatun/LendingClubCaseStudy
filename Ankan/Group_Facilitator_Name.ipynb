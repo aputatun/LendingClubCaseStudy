{
 "cells": [
  {
   "cell_type": "markdown",
   "id": "c35df81f-b1a4-4d36-89e1-c57e3756dd35",
   "metadata": {},
   "source": [
    "# Lending Club Case Study\n",
    "## by Ankit Kumar Surana/Ankan Putatunda\n",
    "\n",
    "## Introduction\n",
    "\n",
    "\n",
    "## Preliminary Wrangling"
   ]
  },
  {
   "cell_type": "code",
   "execution_count": 51,
   "id": "b0eea562-d6df-4806-98fc-6c389cdfe7c5",
   "metadata": {},
   "outputs": [],
   "source": [
    "# import all packages and set plots to be embedded inline\n",
    "import numpy as np\n",
    "import pandas as pd\n",
    "import matplotlib.pyplot as plt\n",
    "import seaborn as sb\n"
   ]
  },
  {
   "cell_type": "markdown",
   "id": "32839add-7c5e-4d39-8bb7-66c569dc7cfa",
   "metadata": {},
   "source": [
    "# Gathering"
   ]
  },
  {
   "cell_type": "code",
   "execution_count": 52,
   "id": "df8888e7-cfce-4e61-b49e-5ad9e22f0d22",
   "metadata": {},
   "outputs": [],
   "source": [
    "df = pd.read_csv('loan.csv',low_memory=False)"
   ]
  },
  {
   "cell_type": "code",
   "execution_count": 53,
   "id": "19a4afd0-3161-4e48-9679-748d4ec92c1b",
   "metadata": {},
   "outputs": [
    {
     "name": "stdout",
     "output_type": "stream",
     "text": [
      "(39717, 111)\n",
      "<class 'pandas.core.frame.DataFrame'>\n",
      "RangeIndex: 39717 entries, 0 to 39716\n",
      "Columns: 111 entries, id to total_il_high_credit_limit\n",
      "dtypes: float64(74), int64(13), object(24)\n",
      "memory usage: 33.6+ MB\n",
      "None\n",
      "        id  member_id  loan_amnt  funded_amnt  funded_amnt_inv        term  \\\n",
      "0  1077501    1296599       5000         5000           4975.0   36 months   \n",
      "1  1077430    1314167       2500         2500           2500.0   60 months   \n",
      "2  1077175    1313524       2400         2400           2400.0   36 months   \n",
      "3  1076863    1277178      10000        10000          10000.0   36 months   \n",
      "4  1075358    1311748       3000         3000           3000.0   60 months   \n",
      "\n",
      "  int_rate  installment grade sub_grade  ... num_tl_90g_dpd_24m  \\\n",
      "0   10.65%       162.87     B        B2  ...                NaN   \n",
      "1   15.27%        59.83     C        C4  ...                NaN   \n",
      "2   15.96%        84.33     C        C5  ...                NaN   \n",
      "3   13.49%       339.31     C        C1  ...                NaN   \n",
      "4   12.69%        67.79     B        B5  ...                NaN   \n",
      "\n",
      "  num_tl_op_past_12m pct_tl_nvr_dlq  percent_bc_gt_75 pub_rec_bankruptcies  \\\n",
      "0                NaN            NaN               NaN                  0.0   \n",
      "1                NaN            NaN               NaN                  0.0   \n",
      "2                NaN            NaN               NaN                  0.0   \n",
      "3                NaN            NaN               NaN                  0.0   \n",
      "4                NaN            NaN               NaN                  0.0   \n",
      "\n",
      "  tax_liens tot_hi_cred_lim total_bal_ex_mort total_bc_limit  \\\n",
      "0       0.0             NaN               NaN            NaN   \n",
      "1       0.0             NaN               NaN            NaN   \n",
      "2       0.0             NaN               NaN            NaN   \n",
      "3       0.0             NaN               NaN            NaN   \n",
      "4       0.0             NaN               NaN            NaN   \n",
      "\n",
      "  total_il_high_credit_limit  \n",
      "0                        NaN  \n",
      "1                        NaN  \n",
      "2                        NaN  \n",
      "3                        NaN  \n",
      "4                        NaN  \n",
      "\n",
      "[5 rows x 111 columns]\n"
     ]
    }
   ],
   "source": [
    "# high-level overview of data shape and composition\n",
    "print(df.shape)\n",
    "print(df.info())\n",
    "print(df.head())"
   ]
  },
  {
   "cell_type": "markdown",
   "id": "0da41154-12d3-4a0e-98ad-a73222d82010",
   "metadata": {},
   "source": [
    "# Assessing"
   ]
  },
  {
   "cell_type": "markdown",
   "id": "381b4a87",
   "metadata": {},
   "source": [
    "#columns and their meaning\n",
    "\n",
    "| Column Name        | Meaning | Columns in Analysis |\n",
    "| --------           | ------- |  --------------     |\n",
    "| funded_amnt        | The total amount committed to that loan at that point in time.    | Y |\n",
    "| funded_amnt_inv    | The total amount committed by investors for that loan at that point in time.     | Y |\n",
    "| term               | Number of months of the loan    | Y |\n",
    "| int_rate           | Interest Rate.    | Y |\n",
    "| installment        | Number of Installments.     | Y |\n",
    "| grade              | Loan grading is a classification system that involves assigning a quality score to a loan based on a borrower's credit history, quality of the collateral, and the likelihood of repayment of the principal and interest.| Y |\n",
    "| sub_grade          | Loan grading is a classification system that involves assigning a quality score to a loan based on a borrower's credit history, quality of the collateral, and the likelihood of repayment of the principal and interest.    | Y |\n",
    "| emp_title          | Borrower     | Y |\n",
    "| emp_length         | Borrower age    | Y |\n",
    "| home_ownership     | Whether Home is owned or not    | Y |\n",
    "| annual_inc         | Annual Income  of the applicant   | Y |\n",
    "| verification_status| Whether Details of the borrower verified or not| Y |\n",
    "| issue_d            | Date Loan was issued    | Y |\n",
    "| loan_status        | Current status of the loan    | Y |\n",
    "| pymnt_plan         | Payment Plan    | N |\n",
    "| url                | url     | N |\n",
    "| desc               | Description of the loan| N |\n",
    "| purpose            | For what commodity loan is taken    | Y |\n",
    "| title              | For what commodity loan is taken       | Y |\n",
    "| zip_code           | zip_code    | N |\n",
    "| addr_state         | address_state    | N |\n",
    "| dti                | Debt to income ratio (higher more risk of defaulter) | Y |\n",
    "| delinq_2yrs        | The number of times the borrower had been 30+ days past due on a payment in the past 2 years | Y |\n",
    "| earliest_cr_line   | The date the borrower's earliest reported credit line was opened     | Y |\n",
    "| inq_last_6mths     | The borrower's number of inquiries by creditors in the last 6 months    | Y |\n",
    "| mths_since_last_delinq     | The number of months since the borrower's last delinquency/defaulting on loans   | Y |\n",
    "| mths_since_last_record         | The number of months since the last public record.   | Y |\n",
    "| open_acc           | ?| ?|\n",
    "| pub_rec            | Number of derogatory public records   | Y |\n",
    "| revol_bal          | Total credit revolving balance ?    | Y |\n",
    "| revol_util         | Revolving line utilization rate, or the amount of credit the borrower is using relative to all available revolving credit   | Y |\n",
    "| total_acc          | Number of accounts held     | Y |\n",
    "| initial_list_status| The initial listing status of the loan. Possible values are – W, F| Y |\n",
    "| out_prncp          | Remaining outstanding principal for total amount funded.    | Y |\n",
    "| out_prncp_inv      | Remaining outstanding principal for portion of total amount funded by investors       | Y |\n",
    "| total_pymnt        | total_pymnt    | Y |\n",
    "| total_pymnt_inv    | total_pymnt_inv    | Y |\n",
    "| total_rec_prncp    | Principal received to date | Y |\n",
    "| total_rec_int      | Interest received to date | Y |\n",
    "| total_rec_late_fee | Late fees received to date    | Y |\n",
    "| recoveries         | post charge off gross recovery  | Y |\n",
    "| collection_recovery_fee| post charge off collection fee  | Y |\n",
    "| last_pymnt_d       | last Payment Date| Y |\n",
    "| last_pymnt_amnt    | Last Payment Amount   | Y |\n",
    "| next_pymnt_d       | Next Payment Date    | Y |\n",
    "| last_credit_pull_d |  The most recent month pulled credit for this loan  | Y |\n",
    "| collections_12_mths_ex_med          | Number of collections in 12 months excluding medical collections     | Y |\n",
    "| policy_code        | policy_code | Y |\n",
    "| application_type   | application_type    | Y |\n",
    "| acc_now_delinq     | The number of accounts on which the borrower is now delinquent.     | Y |\n",
    "| chargeoff_within_12_mths    | charge off within last year    | Y |\n",
    "| delinq_amnt        | Delinquent amount    | Y |\n",
    "| pub_rec_bankruptcies    | Public record of going bankrupt | Y |\n",
    "| tax_liens          | a legal claim against the assets of an individual or business that fails to pay taxes owed to the government | Y |\n",
    "\n",
    "\n",
    "\n"
   ]
  },
  {
   "cell_type": "code",
   "execution_count": 120,
   "id": "3e785dbb",
   "metadata": {},
   "outputs": [
    {
     "data": {
      "text/plain": [
       "0"
      ]
     },
     "execution_count": 120,
     "metadata": {},
     "output_type": "execute_result"
    }
   ],
   "source": [
    "# Check duplicated value\n",
    "df.duplicated().sum()"
   ]
  },
  {
   "cell_type": "code",
   "execution_count": 134,
   "id": "96c8ff0c-063b-491c-b2e6-6db198069f75",
   "metadata": {},
   "outputs": [
    {
     "data": {
      "text/plain": [
       "next_pymnt_d                  38577\n",
       "mths_since_last_record        36931\n",
       "mths_since_last_delinq        25682\n",
       "emp_title                      2459\n",
       "emp_length                     1075\n",
       "pub_rec_bankruptcies            697\n",
       "last_pymnt_d                     71\n",
       "chargeoff_within_12_mths         56\n",
       "collections_12_mths_ex_med       56\n",
       "revol_util                       50\n",
       "tax_liens                        39\n",
       "title                            11\n",
       "last_credit_pull_d                2\n",
       "last_pymnt_amnt                   0\n",
       "total_acc                         0\n",
       "collection_recovery_fee           0\n",
       "recoveries                        0\n",
       "total_rec_late_fee                0\n",
       "application_type                  0\n",
       "policy_code                       0\n",
       "total_rec_prncp                   0\n",
       "total_pymnt_inv                   0\n",
       "total_pymnt                       0\n",
       "acc_now_delinq                    0\n",
       "delinq_amnt                       0\n",
       "out_prncp_inv                     0\n",
       "out_prncp                         0\n",
       "initial_list_status               0\n",
       "total_rec_int                     0\n",
       "id                                0\n",
       "revol_bal                         0\n",
       "member_id                         0\n",
       "loan_amnt                         0\n",
       "funded_amnt                       0\n",
       "funded_amnt_inv                   0\n",
       "term                              0\n",
       "int_rate                          0\n",
       "installment                       0\n",
       "grade                             0\n",
       "sub_grade                         0\n",
       "home_ownership                    0\n",
       "annual_inc                        0\n",
       "verification_status               0\n",
       "issue_d                           0\n",
       "loan_status                       0\n",
       "purpose                           0\n",
       "dti                               0\n",
       "delinq_2yrs                       0\n",
       "earliest_cr_line                  0\n",
       "inq_last_6mths                    0\n",
       "open_acc                          0\n",
       "pub_rec                           0\n",
       "dtype: int64"
      ]
     },
     "execution_count": 134,
     "metadata": {},
     "output_type": "execute_result"
    }
   ],
   "source": [
    "# Check null value for each column\n",
    "df.isnull().sum().sort_values(ascending=False)"
   ]
  },
  {
   "cell_type": "code",
   "execution_count": 157,
   "id": "f9b67947",
   "metadata": {},
   "outputs": [
    {
     "data": {
      "text/plain": [
       "id                              int64\n",
       "member_id                       int64\n",
       "loan_amnt                       int64\n",
       "funded_amnt                     int64\n",
       "funded_amnt_inv               float64\n",
       "term                           object\n",
       "int_rate                       object\n",
       "installment                   float64\n",
       "grade                          object\n",
       "sub_grade                      object\n",
       "emp_title                      object\n",
       "emp_length                     object\n",
       "home_ownership                 object\n",
       "annual_inc                    float64\n",
       "verification_status            object\n",
       "issue_d                        object\n",
       "loan_status                    object\n",
       "purpose                        object\n",
       "title                          object\n",
       "dti                           float64\n",
       "delinq_2yrs                     int64\n",
       "earliest_cr_line               object\n",
       "inq_last_6mths                  int64\n",
       "mths_since_last_delinq        float64\n",
       "mths_since_last_record        float64\n",
       "open_acc                        int64\n",
       "pub_rec                         int64\n",
       "revol_bal                       int64\n",
       "revol_util                     object\n",
       "total_acc                       int64\n",
       "initial_list_status            object\n",
       "out_prncp                     float64\n",
       "out_prncp_inv                 float64\n",
       "total_pymnt                   float64\n",
       "total_pymnt_inv               float64\n",
       "total_rec_prncp               float64\n",
       "total_rec_int                 float64\n",
       "total_rec_late_fee            float64\n",
       "recoveries                    float64\n",
       "collection_recovery_fee       float64\n",
       "last_pymnt_d                   object\n",
       "last_pymnt_amnt               float64\n",
       "next_pymnt_d                   object\n",
       "last_credit_pull_d             object\n",
       "collections_12_mths_ex_med    float64\n",
       "policy_code                     int64\n",
       "application_type               object\n",
       "acc_now_delinq                  int64\n",
       "chargeoff_within_12_mths      float64\n",
       "delinq_amnt                     int64\n",
       "pub_rec_bankruptcies          float64\n",
       "tax_liens                     float64\n",
       "dtype: object"
      ]
     },
     "execution_count": 157,
     "metadata": {},
     "output_type": "execute_result"
    }
   ],
   "source": [
    "# Check whether the datatypes of each column is proper or not\n",
    "df.dtypes"
   ]
  },
  {
   "cell_type": "code",
   "execution_count": 166,
   "id": "ed6380b9",
   "metadata": {},
   "outputs": [
    {
     "data": {
      "text/html": [
       "<div>\n",
       "<style scoped>\n",
       "    .dataframe tbody tr th:only-of-type {\n",
       "        vertical-align: middle;\n",
       "    }\n",
       "\n",
       "    .dataframe tbody tr th {\n",
       "        vertical-align: top;\n",
       "    }\n",
       "\n",
       "    .dataframe thead th {\n",
       "        text-align: right;\n",
       "    }\n",
       "</style>\n",
       "<table border=\"1\" class=\"dataframe\">\n",
       "  <thead>\n",
       "    <tr style=\"text-align: right;\">\n",
       "      <th></th>\n",
       "      <th>id</th>\n",
       "      <th>member_id</th>\n",
       "      <th>loan_amnt</th>\n",
       "      <th>funded_amnt</th>\n",
       "      <th>funded_amnt_inv</th>\n",
       "      <th>term</th>\n",
       "      <th>int_rate</th>\n",
       "      <th>installment</th>\n",
       "      <th>grade</th>\n",
       "      <th>sub_grade</th>\n",
       "      <th>...</th>\n",
       "      <th>next_pymnt_d</th>\n",
       "      <th>last_credit_pull_d</th>\n",
       "      <th>collections_12_mths_ex_med</th>\n",
       "      <th>policy_code</th>\n",
       "      <th>application_type</th>\n",
       "      <th>acc_now_delinq</th>\n",
       "      <th>chargeoff_within_12_mths</th>\n",
       "      <th>delinq_amnt</th>\n",
       "      <th>pub_rec_bankruptcies</th>\n",
       "      <th>tax_liens</th>\n",
       "    </tr>\n",
       "  </thead>\n",
       "  <tbody>\n",
       "    <tr>\n",
       "      <th>17</th>\n",
       "      <td>1069971</td>\n",
       "      <td>1304884</td>\n",
       "      <td>3600</td>\n",
       "      <td>3600</td>\n",
       "      <td>3600.0</td>\n",
       "      <td>36 months</td>\n",
       "      <td>6.03%</td>\n",
       "      <td>109.57</td>\n",
       "      <td>A</td>\n",
       "      <td>A1</td>\n",
       "      <td>...</td>\n",
       "      <td>NaN</td>\n",
       "      <td>May-14</td>\n",
       "      <td>0.0</td>\n",
       "      <td>1</td>\n",
       "      <td>INDIVIDUAL</td>\n",
       "      <td>0</td>\n",
       "      <td>0.0</td>\n",
       "      <td>0</td>\n",
       "      <td>0.0</td>\n",
       "      <td>0.0</td>\n",
       "    </tr>\n",
       "    <tr>\n",
       "      <th>19</th>\n",
       "      <td>1069742</td>\n",
       "      <td>1304855</td>\n",
       "      <td>9200</td>\n",
       "      <td>9200</td>\n",
       "      <td>9200.0</td>\n",
       "      <td>36 months</td>\n",
       "      <td>6.03%</td>\n",
       "      <td>280.01</td>\n",
       "      <td>A</td>\n",
       "      <td>A1</td>\n",
       "      <td>...</td>\n",
       "      <td>NaN</td>\n",
       "      <td>Feb-16</td>\n",
       "      <td>0.0</td>\n",
       "      <td>1</td>\n",
       "      <td>INDIVIDUAL</td>\n",
       "      <td>0</td>\n",
       "      <td>0.0</td>\n",
       "      <td>0</td>\n",
       "      <td>0.0</td>\n",
       "      <td>0.0</td>\n",
       "    </tr>\n",
       "    <tr>\n",
       "      <th>44</th>\n",
       "      <td>1069469</td>\n",
       "      <td>1304526</td>\n",
       "      <td>6000</td>\n",
       "      <td>6000</td>\n",
       "      <td>6000.0</td>\n",
       "      <td>36 months</td>\n",
       "      <td>6.03%</td>\n",
       "      <td>182.62</td>\n",
       "      <td>A</td>\n",
       "      <td>A1</td>\n",
       "      <td>...</td>\n",
       "      <td>NaN</td>\n",
       "      <td>Jun-12</td>\n",
       "      <td>0.0</td>\n",
       "      <td>1</td>\n",
       "      <td>INDIVIDUAL</td>\n",
       "      <td>0</td>\n",
       "      <td>0.0</td>\n",
       "      <td>0</td>\n",
       "      <td>0.0</td>\n",
       "      <td>0.0</td>\n",
       "    </tr>\n",
       "    <tr>\n",
       "      <th>48</th>\n",
       "      <td>1069287</td>\n",
       "      <td>1304171</td>\n",
       "      <td>10000</td>\n",
       "      <td>10000</td>\n",
       "      <td>10000.0</td>\n",
       "      <td>36 months</td>\n",
       "      <td>6.03%</td>\n",
       "      <td>304.36</td>\n",
       "      <td>A</td>\n",
       "      <td>A1</td>\n",
       "      <td>...</td>\n",
       "      <td>NaN</td>\n",
       "      <td>Apr-16</td>\n",
       "      <td>0.0</td>\n",
       "      <td>1</td>\n",
       "      <td>INDIVIDUAL</td>\n",
       "      <td>0</td>\n",
       "      <td>0.0</td>\n",
       "      <td>0</td>\n",
       "      <td>0.0</td>\n",
       "      <td>0.0</td>\n",
       "    </tr>\n",
       "    <tr>\n",
       "      <th>83</th>\n",
       "      <td>1068967</td>\n",
       "      <td>1303403</td>\n",
       "      <td>4500</td>\n",
       "      <td>4500</td>\n",
       "      <td>4500.0</td>\n",
       "      <td>36 months</td>\n",
       "      <td>6.03%</td>\n",
       "      <td>136.96</td>\n",
       "      <td>A</td>\n",
       "      <td>A1</td>\n",
       "      <td>...</td>\n",
       "      <td>NaN</td>\n",
       "      <td>Dec-14</td>\n",
       "      <td>0.0</td>\n",
       "      <td>1</td>\n",
       "      <td>INDIVIDUAL</td>\n",
       "      <td>0</td>\n",
       "      <td>0.0</td>\n",
       "      <td>0</td>\n",
       "      <td>0.0</td>\n",
       "      <td>0.0</td>\n",
       "    </tr>\n",
       "    <tr>\n",
       "      <th>...</th>\n",
       "      <td>...</td>\n",
       "      <td>...</td>\n",
       "      <td>...</td>\n",
       "      <td>...</td>\n",
       "      <td>...</td>\n",
       "      <td>...</td>\n",
       "      <td>...</td>\n",
       "      <td>...</td>\n",
       "      <td>...</td>\n",
       "      <td>...</td>\n",
       "      <td>...</td>\n",
       "      <td>...</td>\n",
       "      <td>...</td>\n",
       "      <td>...</td>\n",
       "      <td>...</td>\n",
       "      <td>...</td>\n",
       "      <td>...</td>\n",
       "      <td>...</td>\n",
       "      <td>...</td>\n",
       "      <td>...</td>\n",
       "      <td>...</td>\n",
       "    </tr>\n",
       "    <tr>\n",
       "      <th>39448</th>\n",
       "      <td>196559</td>\n",
       "      <td>185681</td>\n",
       "      <td>3000</td>\n",
       "      <td>3000</td>\n",
       "      <td>1525.0</td>\n",
       "      <td>36 months</td>\n",
       "      <td>7.12%</td>\n",
       "      <td>92.80</td>\n",
       "      <td>A</td>\n",
       "      <td>A1</td>\n",
       "      <td>...</td>\n",
       "      <td>NaN</td>\n",
       "      <td>Oct-10</td>\n",
       "      <td>0.0</td>\n",
       "      <td>1</td>\n",
       "      <td>INDIVIDUAL</td>\n",
       "      <td>0</td>\n",
       "      <td>0.0</td>\n",
       "      <td>0</td>\n",
       "      <td>NaN</td>\n",
       "      <td>0.0</td>\n",
       "    </tr>\n",
       "    <tr>\n",
       "      <th>39476</th>\n",
       "      <td>186499</td>\n",
       "      <td>186347</td>\n",
       "      <td>1000</td>\n",
       "      <td>1000</td>\n",
       "      <td>875.0</td>\n",
       "      <td>36 months</td>\n",
       "      <td>7.12%</td>\n",
       "      <td>30.94</td>\n",
       "      <td>A</td>\n",
       "      <td>A1</td>\n",
       "      <td>...</td>\n",
       "      <td>NaN</td>\n",
       "      <td>NaN</td>\n",
       "      <td>0.0</td>\n",
       "      <td>1</td>\n",
       "      <td>INDIVIDUAL</td>\n",
       "      <td>0</td>\n",
       "      <td>0.0</td>\n",
       "      <td>0</td>\n",
       "      <td>NaN</td>\n",
       "      <td>0.0</td>\n",
       "    </tr>\n",
       "    <tr>\n",
       "      <th>39567</th>\n",
       "      <td>153022</td>\n",
       "      <td>153018</td>\n",
       "      <td>3000</td>\n",
       "      <td>3000</td>\n",
       "      <td>1825.0</td>\n",
       "      <td>36 months</td>\n",
       "      <td>7.12%</td>\n",
       "      <td>92.80</td>\n",
       "      <td>A</td>\n",
       "      <td>A1</td>\n",
       "      <td>...</td>\n",
       "      <td>NaN</td>\n",
       "      <td>Oct-10</td>\n",
       "      <td>0.0</td>\n",
       "      <td>1</td>\n",
       "      <td>INDIVIDUAL</td>\n",
       "      <td>0</td>\n",
       "      <td>0.0</td>\n",
       "      <td>0</td>\n",
       "      <td>NaN</td>\n",
       "      <td>0.0</td>\n",
       "    </tr>\n",
       "    <tr>\n",
       "      <th>39617</th>\n",
       "      <td>130986</td>\n",
       "      <td>130983</td>\n",
       "      <td>2100</td>\n",
       "      <td>2100</td>\n",
       "      <td>1825.0</td>\n",
       "      <td>36 months</td>\n",
       "      <td>7.12%</td>\n",
       "      <td>64.96</td>\n",
       "      <td>A</td>\n",
       "      <td>A1</td>\n",
       "      <td>...</td>\n",
       "      <td>NaN</td>\n",
       "      <td>Dec-10</td>\n",
       "      <td>0.0</td>\n",
       "      <td>1</td>\n",
       "      <td>INDIVIDUAL</td>\n",
       "      <td>0</td>\n",
       "      <td>0.0</td>\n",
       "      <td>0</td>\n",
       "      <td>NaN</td>\n",
       "      <td>0.0</td>\n",
       "    </tr>\n",
       "    <tr>\n",
       "      <th>39642</th>\n",
       "      <td>127213</td>\n",
       "      <td>85483</td>\n",
       "      <td>2000</td>\n",
       "      <td>2000</td>\n",
       "      <td>1575.0</td>\n",
       "      <td>36 months</td>\n",
       "      <td>7.12%</td>\n",
       "      <td>61.87</td>\n",
       "      <td>A</td>\n",
       "      <td>A1</td>\n",
       "      <td>...</td>\n",
       "      <td>NaN</td>\n",
       "      <td>Apr-10</td>\n",
       "      <td>NaN</td>\n",
       "      <td>1</td>\n",
       "      <td>INDIVIDUAL</td>\n",
       "      <td>0</td>\n",
       "      <td>NaN</td>\n",
       "      <td>0</td>\n",
       "      <td>NaN</td>\n",
       "      <td>NaN</td>\n",
       "    </tr>\n",
       "  </tbody>\n",
       "</table>\n",
       "<p>1139 rows × 52 columns</p>\n",
       "</div>"
      ],
      "text/plain": [
       "            id  member_id  loan_amnt  funded_amnt  funded_amnt_inv  \\\n",
       "17     1069971    1304884       3600         3600           3600.0   \n",
       "19     1069742    1304855       9200         9200           9200.0   \n",
       "44     1069469    1304526       6000         6000           6000.0   \n",
       "48     1069287    1304171      10000        10000          10000.0   \n",
       "83     1068967    1303403       4500         4500           4500.0   \n",
       "...        ...        ...        ...          ...              ...   \n",
       "39448   196559     185681       3000         3000           1525.0   \n",
       "39476   186499     186347       1000         1000            875.0   \n",
       "39567   153022     153018       3000         3000           1825.0   \n",
       "39617   130986     130983       2100         2100           1825.0   \n",
       "39642   127213      85483       2000         2000           1575.0   \n",
       "\n",
       "             term int_rate  installment grade sub_grade  ... next_pymnt_d  \\\n",
       "17      36 months    6.03%       109.57     A        A1  ...          NaN   \n",
       "19      36 months    6.03%       280.01     A        A1  ...          NaN   \n",
       "44      36 months    6.03%       182.62     A        A1  ...          NaN   \n",
       "48      36 months    6.03%       304.36     A        A1  ...          NaN   \n",
       "83      36 months    6.03%       136.96     A        A1  ...          NaN   \n",
       "...           ...      ...          ...   ...       ...  ...          ...   \n",
       "39448   36 months    7.12%        92.80     A        A1  ...          NaN   \n",
       "39476   36 months    7.12%        30.94     A        A1  ...          NaN   \n",
       "39567   36 months    7.12%        92.80     A        A1  ...          NaN   \n",
       "39617   36 months    7.12%        64.96     A        A1  ...          NaN   \n",
       "39642   36 months    7.12%        61.87     A        A1  ...          NaN   \n",
       "\n",
       "      last_credit_pull_d collections_12_mths_ex_med  policy_code  \\\n",
       "17                May-14                        0.0            1   \n",
       "19                Feb-16                        0.0            1   \n",
       "44                Jun-12                        0.0            1   \n",
       "48                Apr-16                        0.0            1   \n",
       "83                Dec-14                        0.0            1   \n",
       "...                  ...                        ...          ...   \n",
       "39448             Oct-10                        0.0            1   \n",
       "39476                NaN                        0.0            1   \n",
       "39567             Oct-10                        0.0            1   \n",
       "39617             Dec-10                        0.0            1   \n",
       "39642             Apr-10                        NaN            1   \n",
       "\n",
       "      application_type acc_now_delinq chargeoff_within_12_mths delinq_amnt  \\\n",
       "17          INDIVIDUAL              0                      0.0           0   \n",
       "19          INDIVIDUAL              0                      0.0           0   \n",
       "44          INDIVIDUAL              0                      0.0           0   \n",
       "48          INDIVIDUAL              0                      0.0           0   \n",
       "83          INDIVIDUAL              0                      0.0           0   \n",
       "...                ...            ...                      ...         ...   \n",
       "39448       INDIVIDUAL              0                      0.0           0   \n",
       "39476       INDIVIDUAL              0                      0.0           0   \n",
       "39567       INDIVIDUAL              0                      0.0           0   \n",
       "39617       INDIVIDUAL              0                      0.0           0   \n",
       "39642       INDIVIDUAL              0                      NaN           0   \n",
       "\n",
       "      pub_rec_bankruptcies  tax_liens  \n",
       "17                     0.0        0.0  \n",
       "19                     0.0        0.0  \n",
       "44                     0.0        0.0  \n",
       "48                     0.0        0.0  \n",
       "83                     0.0        0.0  \n",
       "...                    ...        ...  \n",
       "39448                  NaN        0.0  \n",
       "39476                  NaN        0.0  \n",
       "39567                  NaN        0.0  \n",
       "39617                  NaN        0.0  \n",
       "39642                  NaN        NaN  \n",
       "\n",
       "[1139 rows x 52 columns]"
      ]
     },
     "execution_count": 166,
     "metadata": {},
     "output_type": "execute_result"
    }
   ],
   "source": [
    "df[df.sub_grade == 'A1']"
   ]
  },
  {
   "cell_type": "code",
   "execution_count": 167,
   "id": "96e96071",
   "metadata": {},
   "outputs": [
    {
     "data": {
      "text/plain": [
       "policy_code\n",
       "1    39717\n",
       "Name: count, dtype: int64"
      ]
     },
     "execution_count": 167,
     "metadata": {},
     "output_type": "execute_result"
    }
   ],
   "source": [
    "\n",
    "df.policy_code.value_counts()"
   ]
  },
  {
   "cell_type": "code",
   "execution_count": 159,
   "id": "270d2190",
   "metadata": {},
   "outputs": [
    {
     "data": {
      "text/plain": [
       "0"
      ]
     },
     "execution_count": 159,
     "metadata": {},
     "output_type": "execute_result"
    }
   ],
   "source": [
    "len(df.columns[df.isnull().sum() == len(df)])"
   ]
  },
  {
   "cell_type": "code",
   "execution_count": 224,
   "id": "918b0d45",
   "metadata": {},
   "outputs": [
    {
     "data": {
      "text/plain": [
       "tax_liens\n",
       "0.0    37226\n",
       "Name: count, dtype: int64"
      ]
     },
     "execution_count": 224,
     "metadata": {},
     "output_type": "execute_result"
    }
   ],
   "source": [
    "df.tax_liens.value_counts()"
   ]
  },
  {
   "cell_type": "markdown",
   "id": "00a72010-b1b4-4c12-b6c6-4bebc047f410",
   "metadata": {},
   "source": [
    "# Cleaning"
   ]
  },
  {
   "cell_type": "markdown",
   "id": "b0a3192f-8d20-40f2-8eee-20955ab36644",
   "metadata": {},
   "source": [
    "##### Define"
   ]
  },
  {
   "cell_type": "markdown",
   "id": "0da0b4c6",
   "metadata": {},
   "source": [
    "#### Drop columns which are null completely"
   ]
  },
  {
   "cell_type": "markdown",
   "id": "207630d1-e022-4a38-b039-960e7cccbd84",
   "metadata": {},
   "source": [
    "##### Code"
   ]
  },
  {
   "cell_type": "code",
   "execution_count": 161,
   "id": "1bdf037a-3f2b-42d4-a537-ab189d2ba5e6",
   "metadata": {},
   "outputs": [],
   "source": [
    "df = df.loc[:,df.columns[(df.isnull().sum() != len(df))]]"
   ]
  },
  {
   "cell_type": "markdown",
   "id": "ea4a3ab9-6e99-4f67-abfa-0ed82824decf",
   "metadata": {},
   "source": [
    "##### Test"
   ]
  },
  {
   "cell_type": "code",
   "execution_count": 162,
   "id": "765d8be2-1d0c-4ead-8697-f5b53f82d228",
   "metadata": {},
   "outputs": [
    {
     "data": {
      "text/plain": [
       "Index([], dtype='object')"
      ]
     },
     "execution_count": 162,
     "metadata": {},
     "output_type": "execute_result"
    }
   ],
   "source": [
    "df.columns[df.isnull().sum() == len(df)]"
   ]
  },
  {
   "cell_type": "markdown",
   "id": "903de1ff",
   "metadata": {},
   "source": [
    "##### Define"
   ]
  },
  {
   "cell_type": "markdown",
   "id": "98f5bf09",
   "metadata": {},
   "source": [
    "##### Remove columns from the dataset which are not useful for analysis"
   ]
  },
  {
   "cell_type": "markdown",
   "id": "e2bcba53",
   "metadata": {},
   "source": [
    "##### Code"
   ]
  },
  {
   "cell_type": "code",
   "execution_count": null,
   "id": "f4d8de6f",
   "metadata": {},
   "outputs": [],
   "source": [
    "df.drop(columns=['zip_code','addr_state','pymnt_plan','url','desc'],axis = 1, inplace=True)"
   ]
  },
  {
   "cell_type": "markdown",
   "id": "c8f15334",
   "metadata": {},
   "source": [
    "##### Test"
   ]
  },
  {
   "cell_type": "code",
   "execution_count": null,
   "id": "7c2459cb-73f9-4b4f-a08f-6dc1a1eac8b1",
   "metadata": {},
   "outputs": [
    {
     "data": {
      "text/plain": [
       "(39717, 52)"
      ]
     },
     "execution_count": 129,
     "metadata": {},
     "output_type": "execute_result"
    }
   ],
   "source": [
    "df.shape"
   ]
  },
  {
   "cell_type": "markdown",
   "id": "147084e6",
   "metadata": {},
   "source": [
    "##### Define"
   ]
  },
  {
   "cell_type": "markdown",
   "id": "d9a0880c",
   "metadata": {},
   "source": [
    "##### Remove columns from the dataset which have only one value and is not useful for analysis"
   ]
  },
  {
   "cell_type": "markdown",
   "id": "51d57a3b",
   "metadata": {},
   "source": [
    "##### Code"
   ]
  },
  {
   "cell_type": "code",
   "execution_count": 200,
   "id": "33d3d60a",
   "metadata": {},
   "outputs": [
    {
     "name": "stdout",
     "output_type": "stream",
     "text": [
      "initial_list_status\n",
      "policy_code\n",
      "application_type\n",
      "acc_now_delinq\n",
      "delinq_amnt\n"
     ]
    }
   ],
   "source": [
    "for i in df.columns:\n",
    "    if len(df[i].unique()) == 1 and df[i].value_counts().tolist()[0] == len(df):\n",
    "       print(i)"
   ]
  },
  {
   "cell_type": "code",
   "execution_count": 205,
   "id": "4e9d0668",
   "metadata": {},
   "outputs": [],
   "source": [
    "df.drop(columns=['initial_list_status','policy_code','application_type','acc_now_delinq','delinq_amnt'],axis = 1, inplace=True)"
   ]
  },
  {
   "cell_type": "markdown",
   "id": "ead9fc84",
   "metadata": {},
   "source": [
    "##### Test"
   ]
  },
  {
   "cell_type": "code",
   "execution_count": 208,
   "id": "fc7297c5",
   "metadata": {},
   "outputs": [
    {
     "data": {
      "text/plain": [
       "(39717, 47)"
      ]
     },
     "execution_count": 208,
     "metadata": {},
     "output_type": "execute_result"
    }
   ],
   "source": [
    "df.shape"
   ]
  },
  {
   "cell_type": "markdown",
   "id": "42b07f6d",
   "metadata": {},
   "source": [
    "##### Define"
   ]
  },
  {
   "cell_type": "markdown",
   "id": "246246c2",
   "metadata": {},
   "source": [
    "##### Remove rows which are completely null"
   ]
  },
  {
   "cell_type": "markdown",
   "id": "d49ed5d1",
   "metadata": {},
   "source": [
    "##### Code"
   ]
  },
  {
   "cell_type": "code",
   "execution_count": 216,
   "id": "8c1a3e80",
   "metadata": {},
   "outputs": [
    {
     "data": {
      "text/html": [
       "<div>\n",
       "<style scoped>\n",
       "    .dataframe tbody tr th:only-of-type {\n",
       "        vertical-align: middle;\n",
       "    }\n",
       "\n",
       "    .dataframe tbody tr th {\n",
       "        vertical-align: top;\n",
       "    }\n",
       "\n",
       "    .dataframe thead th {\n",
       "        text-align: right;\n",
       "    }\n",
       "</style>\n",
       "<table border=\"1\" class=\"dataframe\">\n",
       "  <thead>\n",
       "    <tr style=\"text-align: right;\">\n",
       "      <th></th>\n",
       "      <th>id</th>\n",
       "      <th>member_id</th>\n",
       "      <th>loan_amnt</th>\n",
       "      <th>funded_amnt</th>\n",
       "      <th>funded_amnt_inv</th>\n",
       "      <th>term</th>\n",
       "      <th>int_rate</th>\n",
       "      <th>installment</th>\n",
       "      <th>grade</th>\n",
       "      <th>sub_grade</th>\n",
       "      <th>...</th>\n",
       "      <th>recoveries</th>\n",
       "      <th>collection_recovery_fee</th>\n",
       "      <th>last_pymnt_d</th>\n",
       "      <th>last_pymnt_amnt</th>\n",
       "      <th>next_pymnt_d</th>\n",
       "      <th>last_credit_pull_d</th>\n",
       "      <th>collections_12_mths_ex_med</th>\n",
       "      <th>chargeoff_within_12_mths</th>\n",
       "      <th>pub_rec_bankruptcies</th>\n",
       "      <th>tax_liens</th>\n",
       "    </tr>\n",
       "  </thead>\n",
       "  <tbody>\n",
       "  </tbody>\n",
       "</table>\n",
       "<p>0 rows × 47 columns</p>\n",
       "</div>"
      ],
      "text/plain": [
       "Empty DataFrame\n",
       "Columns: [id, member_id, loan_amnt, funded_amnt, funded_amnt_inv, term, int_rate, installment, grade, sub_grade, emp_title, emp_length, home_ownership, annual_inc, verification_status, issue_d, loan_status, purpose, title, dti, delinq_2yrs, earliest_cr_line, inq_last_6mths, mths_since_last_delinq, mths_since_last_record, open_acc, pub_rec, revol_bal, revol_util, total_acc, out_prncp, out_prncp_inv, total_pymnt, total_pymnt_inv, total_rec_prncp, total_rec_int, total_rec_late_fee, recoveries, collection_recovery_fee, last_pymnt_d, last_pymnt_amnt, next_pymnt_d, last_credit_pull_d, collections_12_mths_ex_med, chargeoff_within_12_mths, pub_rec_bankruptcies, tax_liens]\n",
       "Index: []\n",
       "\n",
       "[0 rows x 47 columns]"
      ]
     },
     "execution_count": 216,
     "metadata": {},
     "output_type": "execute_result"
    }
   ],
   "source": [
    "df[df.isnull().all(axis=1)]"
   ]
  },
  {
   "cell_type": "markdown",
   "id": "eef8e9de",
   "metadata": {},
   "source": [
    "##### Define"
   ]
  },
  {
   "cell_type": "markdown",
   "id": "f6e4f9b0",
   "metadata": {},
   "source": [
    "##### Remove rows where borrower is null"
   ]
  },
  {
   "cell_type": "markdown",
   "id": "46c8d093",
   "metadata": {},
   "source": [
    "##### Code"
   ]
  },
  {
   "cell_type": "code",
   "execution_count": 225,
   "id": "edb7249b",
   "metadata": {},
   "outputs": [],
   "source": [
    "df = df[~df.emp_title.isna()]"
   ]
  },
  {
   "cell_type": "markdown",
   "id": "e5c1f690",
   "metadata": {},
   "source": [
    "##### Test"
   ]
  },
  {
   "cell_type": "code",
   "execution_count": 226,
   "id": "c331463d",
   "metadata": {},
   "outputs": [
    {
     "data": {
      "text/html": [
       "<div>\n",
       "<style scoped>\n",
       "    .dataframe tbody tr th:only-of-type {\n",
       "        vertical-align: middle;\n",
       "    }\n",
       "\n",
       "    .dataframe tbody tr th {\n",
       "        vertical-align: top;\n",
       "    }\n",
       "\n",
       "    .dataframe thead th {\n",
       "        text-align: right;\n",
       "    }\n",
       "</style>\n",
       "<table border=\"1\" class=\"dataframe\">\n",
       "  <thead>\n",
       "    <tr style=\"text-align: right;\">\n",
       "      <th></th>\n",
       "      <th>id</th>\n",
       "      <th>member_id</th>\n",
       "      <th>loan_amnt</th>\n",
       "      <th>funded_amnt</th>\n",
       "      <th>funded_amnt_inv</th>\n",
       "      <th>term</th>\n",
       "      <th>int_rate</th>\n",
       "      <th>installment</th>\n",
       "      <th>grade</th>\n",
       "      <th>sub_grade</th>\n",
       "      <th>...</th>\n",
       "      <th>recoveries</th>\n",
       "      <th>collection_recovery_fee</th>\n",
       "      <th>last_pymnt_d</th>\n",
       "      <th>last_pymnt_amnt</th>\n",
       "      <th>next_pymnt_d</th>\n",
       "      <th>last_credit_pull_d</th>\n",
       "      <th>collections_12_mths_ex_med</th>\n",
       "      <th>chargeoff_within_12_mths</th>\n",
       "      <th>pub_rec_bankruptcies</th>\n",
       "      <th>tax_liens</th>\n",
       "    </tr>\n",
       "  </thead>\n",
       "  <tbody>\n",
       "  </tbody>\n",
       "</table>\n",
       "<p>0 rows × 47 columns</p>\n",
       "</div>"
      ],
      "text/plain": [
       "Empty DataFrame\n",
       "Columns: [id, member_id, loan_amnt, funded_amnt, funded_amnt_inv, term, int_rate, installment, grade, sub_grade, emp_title, emp_length, home_ownership, annual_inc, verification_status, issue_d, loan_status, purpose, title, dti, delinq_2yrs, earliest_cr_line, inq_last_6mths, mths_since_last_delinq, mths_since_last_record, open_acc, pub_rec, revol_bal, revol_util, total_acc, out_prncp, out_prncp_inv, total_pymnt, total_pymnt_inv, total_rec_prncp, total_rec_int, total_rec_late_fee, recoveries, collection_recovery_fee, last_pymnt_d, last_pymnt_amnt, next_pymnt_d, last_credit_pull_d, collections_12_mths_ex_med, chargeoff_within_12_mths, pub_rec_bankruptcies, tax_liens]\n",
       "Index: []\n",
       "\n",
       "[0 rows x 47 columns]"
      ]
     },
     "execution_count": 226,
     "metadata": {},
     "output_type": "execute_result"
    }
   ],
   "source": [
    "df[df.emp_title.isna()]"
   ]
  },
  {
   "cell_type": "markdown",
   "id": "73424a3d",
   "metadata": {},
   "source": []
  },
  {
   "cell_type": "markdown",
   "id": "4ca4e458-0cb3-4841-a1a2-06736eda897d",
   "metadata": {},
   "source": [
    "# Univariate Exploration"
   ]
  },
  {
   "cell_type": "code",
   "execution_count": null,
   "id": "835024a8-008e-4f07-8895-7c50140652cb",
   "metadata": {},
   "outputs": [],
   "source": []
  },
  {
   "cell_type": "code",
   "execution_count": null,
   "id": "ea84a2e9-40d9-43c1-b64e-e75bb4dd4e79",
   "metadata": {},
   "outputs": [],
   "source": []
  },
  {
   "cell_type": "markdown",
   "id": "d4ed0692-e565-431e-80a3-30047b67a8b7",
   "metadata": {},
   "source": [
    "# Segemented Exploration"
   ]
  },
  {
   "cell_type": "code",
   "execution_count": null,
   "id": "97f09d65-243c-4bbc-b05b-65dfe234cf6f",
   "metadata": {},
   "outputs": [],
   "source": []
  },
  {
   "cell_type": "code",
   "execution_count": null,
   "id": "7adb93f6-3dac-4157-94a2-a281f064f11c",
   "metadata": {},
   "outputs": [],
   "source": []
  },
  {
   "cell_type": "markdown",
   "id": "19a8bce7-8e1e-4a65-a684-d66672bb6ba6",
   "metadata": {},
   "source": [
    "# Bivariate Exploration"
   ]
  },
  {
   "cell_type": "code",
   "execution_count": null,
   "id": "ea00e777-6780-4337-aad5-236a210016ed",
   "metadata": {},
   "outputs": [],
   "source": []
  },
  {
   "cell_type": "code",
   "execution_count": null,
   "id": "73afd8e2-5bbf-4825-ac97-5db567ebce41",
   "metadata": {},
   "outputs": [],
   "source": []
  }
 ],
 "metadata": {
  "kernelspec": {
   "display_name": "Python 3 (ipykernel)",
   "language": "python",
   "name": "python3"
  },
  "language_info": {
   "codemirror_mode": {
    "name": "ipython",
    "version": 3
   },
   "file_extension": ".py",
   "mimetype": "text/x-python",
   "name": "python",
   "nbconvert_exporter": "python",
   "pygments_lexer": "ipython3",
   "version": "3.10.14"
  }
 },
 "nbformat": 4,
 "nbformat_minor": 5
}
